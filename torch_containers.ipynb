{
 "cells": [
  {
   "cell_type": "code",
   "execution_count": 9,
   "metadata": {
    "collapsed": false
   },
   "outputs": [],
   "source": [
    "require 'nn';\n",
    "require 'nngraph'\n"
   ]
  },
  {
   "cell_type": "code",
   "execution_count": 2,
   "metadata": {
    "collapsed": true
   },
   "outputs": [],
   "source": []
  },
  {
   "cell_type": "code",
   "execution_count": 3,
   "metadata": {
    "collapsed": true
   },
   "outputs": [],
   "source": []
  },
  {
   "cell_type": "code",
   "execution_count": 17,
   "metadata": {
    "collapsed": true
   },
   "outputs": [],
   "source": [
    "x = torch.range(1,5)"
   ]
  },
  {
   "cell_type": "code",
   "execution_count": null,
   "metadata": {
    "collapsed": false
   },
   "outputs": [],
   "source": []
  },
  {
   "cell_type": "code",
   "execution_count": 18,
   "metadata": {
    "collapsed": false
   },
   "outputs": [
    {
     "data": {
      "text/plain": [
       " 1\n",
       " 2\n",
       " 3\n",
       " 4\n",
       " 5\n",
       "[torch.DoubleTensor of size 5]\n",
       "\n"
      ]
     },
     "execution_count": 18,
     "metadata": {},
     "output_type": "execute_result"
    }
   ],
   "source": [
    "x"
   ]
  },
  {
   "cell_type": "code",
   "execution_count": 19,
   "metadata": {
    "collapsed": false
   },
   "outputs": [],
   "source": [
    "net = nn.ConcatTable()\n",
    "net:add(nn.Linear(5,5))\n",
    "net:add(nn.Linear(5,10))\n",
    "\n",
    "output = net:forward(x)"
   ]
  },
  {
   "cell_type": "code",
   "execution_count": 20,
   "metadata": {
    "collapsed": false
   },
   "outputs": [
    {
     "data": {
      "text/plain": [
       "{\n",
       "  1 : DoubleTensor - size: 5\n",
       "  2 : DoubleTensor - size: 10\n",
       "}\n"
      ]
     },
     "execution_count": 20,
     "metadata": {},
     "output_type": "execute_result"
    }
   ],
   "source": [
    "output"
   ]
  },
  {
   "cell_type": "code",
   "execution_count": null,
   "metadata": {
    "collapsed": true
   },
   "outputs": [],
   "source": [
    "net = nn.ParallelTable()\n",
    "net:add(nn.Linear(10,5))\n",
    "net:add(nn.Linear(5,10))\n",
    "\n",
    "input1 = Torch.range(1,10):view(1,10)\n",
    "input2 = Torch.range(1,5):view(1,5)\n",
    "output = net:forward{input1,input2}"
   ]
  },
  {
   "cell_type": "code",
   "execution_count": 22,
   "metadata": {
    "collapsed": true
   },
   "outputs": [],
   "source": [
    "net = nn.MapTable()\n",
    "net:add(nn.Linear(5,10))\n",
    "\n",
    "input1 = torch.rand(1,5)\n",
    "input2 = torch.rand(1,5)\n",
    "input3 = torch.rand(1,5)\n",
    "\n",
    "output = net:forward{input1,input2,input3}"
   ]
  },
  {
   "cell_type": "code",
   "execution_count": 23,
   "metadata": {
    "collapsed": false
   },
   "outputs": [
    {
     "data": {
      "text/plain": [
       "{\n",
       "  1 : DoubleTensor - size: 1x10\n",
       "  2 : DoubleTensor - size: 1x10\n",
       "  3 : DoubleTensor - size: 1x10\n",
       "}\n"
      ]
     },
     "execution_count": 23,
     "metadata": {},
     "output_type": "execute_result"
    }
   ],
   "source": [
    "output"
   ]
  },
  {
   "cell_type": "code",
   "execution_count": null,
   "metadata": {
    "collapsed": true
   },
   "outputs": [],
   "source": [
    "net = nn.SplitTable(2) # here we specify the dimension on which to split the input Tensor\n",
    "input = torch.rand(2,5)\n",
    "output = net:forward(input)"
   ]
  },
  {
   "cell_type": "code",
   "execution_count": 24,
   "metadata": {
    "collapsed": true
   },
   "outputs": [],
   "source": [
    "net = nn.JoinTable(1)\n",
    "input1 = torch.rand(1,5)\n",
    "input2 = torch.rand(2,5)\n",
    "input3 = torch.rand(3,5)\n",
    "output = net:forward{input1,input2,input3}"
   ]
  },
  {
   "cell_type": "code",
   "execution_count": 25,
   "metadata": {
    "collapsed": false
   },
   "outputs": [
    {
     "data": {
      "text/plain": [
       " 0.8581  0.7293  0.9337  0.5207  0.6365\n",
       " 0.5629  0.8236  0.2253  0.0175  0.4128\n",
       " 0.6373  0.2616  0.9777  0.0388  0.6716\n",
       " 0.1150  0.0709  0.5228  0.7454  0.7499\n",
       " 0.1865  0.5978  0.9608  0.5198  0.3691\n",
       " 0.1695  0.8006  0.4528  0.5251  0.4652\n",
       "[torch.DoubleTensor of size 6x5]\n",
       "\n"
      ]
     },
     "execution_count": 25,
     "metadata": {},
     "output_type": "execute_result"
    }
   ],
   "source": [
    "output"
   ]
  },
  {
   "cell_type": "code",
   "execution_count": 21,
   "metadata": {
    "collapsed": false
   },
   "outputs": [
    {
     "data": {
      "text/plain": [
       " 2.0444\n",
       " 0.4064\n",
       " 0.3294\n",
       " 0.2148\n",
       " 0.4947\n",
       "[torch.DoubleTensor of size 5]\n",
       "\n"
      ]
     },
     "execution_count": 21,
     "metadata": {},
     "output_type": "execute_result"
    }
   ],
   "source": [
    "print(output[1])"
   ]
  },
  {
   "cell_type": "code",
   "execution_count": 16,
   "metadata": {
    "collapsed": false
   },
   "outputs": [
    {
     "data": {
      "text/plain": [
       " 1.5411 -3.1856  4.5521  2.9123 -3.3926 -1.1189  2.2274 -1.0155 -1.8249  1.3029\n",
       "[torch.DoubleTensor of size 1x10]\n",
       "\n"
      ]
     },
     "execution_count": 16,
     "metadata": {},
     "output_type": "execute_result"
    }
   ],
   "source": [
    "print(output[2])"
   ]
  },
  {
   "cell_type": "code",
   "execution_count": 8,
   "metadata": {
    "collapsed": false
   },
   "outputs": [
    {
     "data": {
      "text/plain": [
       "1\t 0.6180  2.2069 -0.8479  2.8291  4.0862\n",
       "[torch.DoubleTensor of size 1x5]\n",
       "\n",
       "2\t 0.5946 -1.0379  1.5727 -1.6679  0.8651 -1.0725 -1.6096 -1.9289  1.2148 -3.1052\n",
       "[torch.DoubleTensor of size 1x10]\n",
       "\n"
      ]
     },
     "execution_count": 8,
     "metadata": {},
     "output_type": "execute_result"
    }
   ],
   "source": [
    "for k,v in pairs(output) do\n",
    "    print(k,v)\n",
    "end"
   ]
  },
  {
   "cell_type": "code",
   "execution_count": null,
   "metadata": {
    "collapsed": false
   },
   "outputs": [],
   "source": [
    "\n",
    "\n",
    "par = nn.ParallelTable()\n",
    "par:add(nn.Linear(5,5))\n",
    "par:add(nn.Linear(5,10))\n",
    "\n",
    "output = net:forward(torch.rand(5))\n"
   ]
  },
  {
   "cell_type": "code",
   "execution_count": null,
   "metadata": {
    "collapsed": false
   },
   "outputs": [],
   "source": [
    "\n",
    "par = nn.ParallelTable()\n",
    "par:add(nn.Linear(5,5))\n",
    "par:add(nn.Linear(5,10))\n",
    "\n",
    "output = net:forward(torch.rand(5))"
   ]
  },
  {
   "cell_type": "code",
   "execution_count": null,
   "metadata": {
    "collapsed": true
   },
   "outputs": [],
   "source": []
  },
  {
   "cell_type": "code",
   "execution_count": null,
   "metadata": {
    "collapsed": true
   },
   "outputs": [],
   "source": []
  },
  {
   "cell_type": "code",
   "execution_count": null,
   "metadata": {
    "collapsed": false
   },
   "outputs": [],
   "source": [
    "l1 = nn.Linear(10,20)()\n",
    "\n",
    "l2a = nn.Linear(20,40)\n",
    "l2b = nn.Linear(20,40)\n",
    "\n",
    "b1 = l2a(l1)\n",
    "b2 = l2b(l1)\n",
    "\n",
    "net = nn.gModule({l1},{b1,b2})"
   ]
  },
  {
   "cell_type": "code",
   "execution_count": null,
   "metadata": {
    "collapsed": true
   },
   "outputs": [],
   "source": []
  },
  {
   "cell_type": "code",
   "execution_count": null,
   "metadata": {
    "collapsed": true
   },
   "outputs": [],
   "source": []
  },
  {
   "cell_type": "code",
   "execution_count": null,
   "metadata": {
    "collapsed": true
   },
   "outputs": [],
   "source": []
  },
  {
   "cell_type": "code",
   "execution_count": null,
   "metadata": {
    "collapsed": true
   },
   "outputs": [],
   "source": []
  },
  {
   "cell_type": "code",
   "execution_count": null,
   "metadata": {
    "collapsed": false
   },
   "outputs": [],
   "source": [
    "\n",
    "-- Define each layer\n",
    "l1 = nn.SpatialConvolution(5,3,2,2)()\n",
    "r = nn.ReLU()(l1)\n",
    "l2a = nn.SpatialConvolution(3,3,1,1)\n",
    "l2b = nn.SpatialConvolution(3,3,1,1)\n",
    "\n",
    "-- Branch \n",
    "b1 = l2a(r)\n",
    "b2 = l2b(r)\n",
    "net = nn.gModule({l1},{b1,b2})\n",
    "\n",
    "\n",
    "\n"
   ]
  },
  {
   "cell_type": "code",
   "execution_count": null,
   "metadata": {
    "collapsed": true
   },
   "outputs": [],
   "source": [
    "\n",
    "indata = torch.Tensor(5,5,3):zero()\n",
    "gdata1 = torch.Tensor(3,4,2):zero()\n",
    "gdata2 = torch.Tensor(3,4,2):zero()\n",
    "net:forward(indata)\n",
    "net:backward({indata}, {gdata1,gdata2})\n",
    "\n",
    "graph.dot(net.fg, 'Forward Graph', 'convgraph')\n",
    "graph.dot(net.bg, 'Backward Graph','bconvgraph')"
   ]
  },
  {
   "cell_type": "code",
   "execution_count": null,
   "metadata": {
    "collapsed": false
   },
   "outputs": [],
   "source": [
    "\n",
    "branch = nn.ParallelTable()\n",
    "branch:add(nn.SpatialConvolution(3,3,1,1))\n",
    "branch:add(nn.SpatialConvolution(3,3,1,1))\n",
    "\n",
    "-- nn.ParallelTable()\n",
    "net = nn.Sequential()\n",
    "net:add(nn.SpatialConvolution(5,3,2,2))\n",
    "net:add(nn.ReLU())\n",
    "net:add(nn.Replicate(4))\n",
    "net:add(nn.SplitTable(1))\n",
    "net:add(branch)\n",
    "\n",
    "\n",
    "\n",
    "\n"
   ]
  },
  {
   "cell_type": "code",
   "execution_count": null,
   "metadata": {
    "collapsed": false
   },
   "outputs": [],
   "source": [
    "net"
   ]
  },
  {
   "cell_type": "code",
   "execution_count": 26,
   "metadata": {
    "collapsed": true
   },
   "outputs": [],
   "source": [
    "net = nn.Sequential()\n",
    "net:add(nn.SpatialConvolution(3,64,3,3,1,1,1,1))\n",
    "net:add(nn.ReLU())\n",
    "net:add(nn.SpatialConvolution(64,64,3,3,1,1,1,1))\n",
    "net:add(nn.ReLU())"
   ]
  },
  {
   "cell_type": "code",
   "execution_count": null,
   "metadata": {
    "collapsed": true
   },
   "outputs": [],
   "source": []
  }
 ],
 "metadata": {
  "kernelspec": {
   "display_name": "iTorch",
   "language": "lua",
   "name": "itorch"
  },
  "language_info": {
   "name": "lua",
   "version": "5.1"
  }
 },
 "nbformat": 4,
 "nbformat_minor": 2
}
