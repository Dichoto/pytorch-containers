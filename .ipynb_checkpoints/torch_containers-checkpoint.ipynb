{
 "cells": [
  {
   "cell_type": "code",
   "execution_count": 6,
   "metadata": {
    "collapsed": false
   },
   "outputs": [],
   "source": [
    "require 'nn';\n",
    "require 'nngraph'\n"
   ]
  },
  {
   "cell_type": "code",
   "execution_count": 7,
   "metadata": {
    "collapsed": true
   },
   "outputs": [],
   "source": [
    "net = nn.Sequential()"
   ]
  },
  {
   "cell_type": "code",
   "execution_count": 8,
   "metadata": {
    "collapsed": true
   },
   "outputs": [],
   "source": [
    "net = nn.ConcatTable()"
   ]
  },
  {
   "cell_type": "code",
   "execution_count": 9,
   "metadata": {
    "collapsed": true
   },
   "outputs": [],
   "source": [
    "net = nn.ConcatTable()\n",
    "net:add(nn.Linear(5,5))\n",
    "net:add(nn.Linear(5,10))\n",
    "\n",
    "output = net:forward(torch.randn(5))"
   ]
  },
  {
   "cell_type": "code",
   "execution_count": 10,
   "metadata": {
    "collapsed": false
   },
   "outputs": [
    {
     "data": {
      "text/plain": [
       "1\t-0.0208\n",
       " 0.1789\n",
       "-0.8337\n",
       " 0.7206\n",
       " 0.3027\n",
       "[torch.DoubleTensor of size 5]\n",
       "\n",
       "2\t-0.2242\n",
       "-0.5391\n",
       "-0.8554\n",
       " 1.3475\n",
       "-0.2276\n",
       "[torch.DoubleTensor of size 5]\n",
       "\n"
      ]
     },
     "execution_count": 10,
     "metadata": {},
     "output_type": "execute_result"
    }
   ],
   "source": [
    "for k,v in pairs(output) do\n",
    "    print(k,v)\n",
    "end"
   ]
  },
  {
   "cell_type": "code",
   "execution_count": null,
   "metadata": {
    "collapsed": false
   },
   "outputs": [],
   "source": [
    "-- ConcatTable\n",
    "\n",
    "par = nn.ParallelTable()\n",
    "par:add(nn.Linear(5,5))\n",
    "par:add(nn.Linear(5,10))\n",
    "\n",
    "output = net:forward(torch.rand(5))\n"
   ]
  },
  {
   "cell_type": "code",
   "execution_count": null,
   "metadata": {
    "collapsed": false
   },
   "outputs": [],
   "source": []
  },
  {
   "cell_type": "code",
   "execution_count": null,
   "metadata": {
    "collapsed": true
   },
   "outputs": [],
   "source": []
  },
  {
   "cell_type": "code",
   "execution_count": null,
   "metadata": {
    "collapsed": true
   },
   "outputs": [],
   "source": []
  },
  {
   "cell_type": "code",
   "execution_count": null,
   "metadata": {
    "collapsed": false
   },
   "outputs": [],
   "source": [
    "l1 = nn.Linear(10,20)()\n",
    "\n",
    "l2a = nn.Linear(20,40)\n",
    "l2b = nn.Linear(20,40)\n",
    "\n",
    "b1 = l2a(l1)\n",
    "b2 = l2b(l1)\n",
    "\n",
    "net = nn.gModule({l1},{b1,b2})"
   ]
  },
  {
   "cell_type": "code",
   "execution_count": null,
   "metadata": {
    "collapsed": true
   },
   "outputs": [],
   "source": []
  },
  {
   "cell_type": "code",
   "execution_count": null,
   "metadata": {
    "collapsed": true
   },
   "outputs": [],
   "source": []
  },
  {
   "cell_type": "code",
   "execution_count": null,
   "metadata": {
    "collapsed": true
   },
   "outputs": [],
   "source": []
  },
  {
   "cell_type": "code",
   "execution_count": null,
   "metadata": {
    "collapsed": true
   },
   "outputs": [],
   "source": []
  },
  {
   "cell_type": "code",
   "execution_count": null,
   "metadata": {
    "collapsed": false
   },
   "outputs": [],
   "source": [
    "\n",
    "-- Define each layer\n",
    "l1 = nn.SpatialConvolution(5,3,2,2)()\n",
    "r = nn.ReLU()(l1)\n",
    "l2a = nn.SpatialConvolution(3,3,1,1)\n",
    "l2b = nn.SpatialConvolution(3,3,1,1)\n",
    "\n",
    "-- Branch \n",
    "b1 = l2a(r)\n",
    "b2 = l2b(r)\n",
    "net = nn.gModule({l1},{b1,b2})\n",
    "\n",
    "\n",
    "\n"
   ]
  },
  {
   "cell_type": "code",
   "execution_count": null,
   "metadata": {
    "collapsed": true
   },
   "outputs": [],
   "source": [
    "\n",
    "indata = torch.Tensor(5,5,3):zero()\n",
    "gdata1 = torch.Tensor(3,4,2):zero()\n",
    "gdata2 = torch.Tensor(3,4,2):zero()\n",
    "net:forward(indata)\n",
    "net:backward({indata}, {gdata1,gdata2})\n",
    "\n",
    "graph.dot(net.fg, 'Forward Graph', 'convgraph')\n",
    "graph.dot(net.bg, 'Backward Graph','bconvgraph')"
   ]
  },
  {
   "cell_type": "code",
   "execution_count": null,
   "metadata": {
    "collapsed": false
   },
   "outputs": [],
   "source": [
    "\n",
    "branch = nn.ParallelTable()\n",
    "branch:add(nn.SpatialConvolution(3,3,1,1))\n",
    "branch:add(nn.SpatialConvolution(3,3,1,1))\n",
    "\n",
    "-- nn.ParallelTable()\n",
    "net = nn.Sequential()\n",
    "net:add(nn.SpatialConvolution(5,3,2,2))\n",
    "net:add(nn.ReLU())\n",
    "net:add(nn.Replicate(4))\n",
    "net:add(nn.SplitTable(1))\n",
    "net:add(branch)\n",
    "\n",
    "\n",
    "\n",
    "\n"
   ]
  },
  {
   "cell_type": "code",
   "execution_count": null,
   "metadata": {
    "collapsed": false
   },
   "outputs": [],
   "source": [
    "net"
   ]
  },
  {
   "cell_type": "code",
   "execution_count": null,
   "metadata": {
    "collapsed": true
   },
   "outputs": [],
   "source": []
  }
 ],
 "metadata": {
  "kernelspec": {
   "display_name": "iTorch",
   "language": "lua",
   "name": "itorch"
  },
  "language_info": {
   "name": "lua",
   "version": "5.1"
  }
 },
 "nbformat": 4,
 "nbformat_minor": 2
}
