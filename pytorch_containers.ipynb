{
 "cells": [
  {
   "cell_type": "code",
   "execution_count": 1,
   "metadata": {
    "collapsed": true
   },
   "outputs": [],
   "source": [
    "import torch\n",
    "import torch.nn as nn\n",
    "from torch.autograd import Variable"
   ]
  },
  {
   "cell_type": "code",
   "execution_count": 2,
   "metadata": {
    "collapsed": false
   },
   "outputs": [],
   "source": [
    "x = Variable(torch.range(1,5))"
   ]
  },
  {
   "cell_type": "code",
   "execution_count": 3,
   "metadata": {
    "collapsed": false
   },
   "outputs": [],
   "source": [
    "x = x.view(1,5).double()"
   ]
  },
  {
   "cell_type": "code",
   "execution_count": 4,
   "metadata": {
    "collapsed": false
   },
   "outputs": [
    {
     "data": {
      "text/plain": [
       "Variable containing:\n",
       " 1  2  3  4  5\n",
       "[torch.DoubleTensor of size 1x5]"
      ]
     },
     "execution_count": 4,
     "metadata": {},
     "output_type": "execute_result"
    }
   ],
   "source": [
    "x"
   ]
  },
  {
   "cell_type": "code",
   "execution_count": 17,
   "metadata": {
    "collapsed": false
   },
   "outputs": [],
   "source": [
    "class TableModule(nn.Module):\n",
    "    def __init__(self):\n",
    "        super(TableModule,self).__init__()\n",
    "        self.layer1 = nn.Linear(5,5)\n",
    "        self.layer2 = nn.Linear(5,10)\n",
    "    def forward(self,x):\n",
    "        x = [self.layer1(x),self.layer2(x)]\n",
    "        \n",
    "        return x\n",
    "        \n",
    "input = Variable(torch.range(1,5).view(1,5))\n",
    "net = TableModule()\n",
    "output = net(input)\n",
    "        "
   ]
  },
  {
   "cell_type": "code",
   "execution_count": 18,
   "metadata": {
    "collapsed": false
   },
   "outputs": [
    {
     "data": {
      "text/plain": [
       "[Variable containing:\n",
       "  4.6114  0.0827 -0.3984 -3.0865 -5.0488\n",
       " [torch.FloatTensor of size 1x5], Variable containing:\n",
       "  0.6505  2.1503 -3.1930 -3.1710  1.4481 -3.2681 -0.1240  1.7203  2.6069  0.8644\n",
       " [torch.FloatTensor of size 1x10]]"
      ]
     },
     "execution_count": 18,
     "metadata": {},
     "output_type": "execute_result"
    }
   ],
   "source": [
    "output"
   ]
  },
  {
   "cell_type": "code",
   "execution_count": 6,
   "metadata": {
    "collapsed": false
   },
   "outputs": [],
   "source": [
    "net = SimpleConcat().double()"
   ]
  },
  {
   "cell_type": "code",
   "execution_count": 7,
   "metadata": {
    "collapsed": false
   },
   "outputs": [],
   "source": [
    "y=net(x)"
   ]
  },
  {
   "cell_type": "code",
   "execution_count": 8,
   "metadata": {
    "collapsed": false
   },
   "outputs": [
    {
     "data": {
      "text/plain": [
       "(Variable containing:\n",
       " -1.5701  1.9877  0.3775 -2.5217  0.5357\n",
       " [torch.DoubleTensor of size 1x5], Variable containing:\n",
       "  1.4489  1.1724  1.7545  1.8745  4.2396 -2.4539 -1.5547 -1.0519  3.7151 -1.1085\n",
       " [torch.DoubleTensor of size 1x10])"
      ]
     },
     "execution_count": 8,
     "metadata": {},
     "output_type": "execute_result"
    }
   ],
   "source": [
    "y"
   ]
  },
  {
   "cell_type": "code",
   "execution_count": 14,
   "metadata": {
    "collapsed": false
   },
   "outputs": [],
   "source": [
    "class TableModule(nn.Module):\n",
    "    def __init__(self):\n",
    "        super(TableModule,self).__init__()\n",
    "        self.layer1 = nn.Linear(10,5)\n",
    "        self.layer2 = nn.Linear(5,10)\n",
    "    def forward(self,x1,x2):\n",
    "        y = [self.layer1(x1),self.layer2(x2)]\n",
    "        return y\n",
    "        \n",
    "input1 = Variable(torch.range(1,10).view(1,10))\n",
    "input2 = Variable(torch.range(1,5).view(1,5))\n",
    "net = TableModule()\n",
    "output = net(input1,input2)"
   ]
  },
  {
   "cell_type": "code",
   "execution_count": 15,
   "metadata": {
    "collapsed": false
   },
   "outputs": [
    {
     "data": {
      "text/plain": [
       "[Variable containing:\n",
       " -0.4370  0.5508 -0.0066 -2.3404 -2.0889\n",
       " [torch.FloatTensor of size 1x5], Variable containing:\n",
       "  2.7046  3.9304 -0.3684 -1.3319  2.5307 -2.4725 -1.7089  2.6876  1.8233 -2.3628\n",
       " [torch.FloatTensor of size 1x10]]"
      ]
     },
     "execution_count": 15,
     "metadata": {},
     "output_type": "execute_result"
    }
   ],
   "source": [
    "output"
   ]
  },
  {
   "cell_type": "code",
   "execution_count": 16,
   "metadata": {
    "collapsed": false
   },
   "outputs": [
    {
     "data": {
      "text/plain": [
       "Variable containing:\n",
       " 2.7046  3.9304 -0.3684 -1.3319  2.5307 -2.4725 -1.7089  2.6876  1.8233 -2.3628\n",
       "[torch.FloatTensor of size 1x10]"
      ]
     },
     "execution_count": 16,
     "metadata": {},
     "output_type": "execute_result"
    }
   ],
   "source": [
    "output[1]"
   ]
  },
  {
   "cell_type": "code",
   "execution_count": 21,
   "metadata": {
    "collapsed": false
   },
   "outputs": [],
   "source": [
    "class TableModule(nn.Module):\n",
    "    def __init__(self):\n",
    "        super(TableModule,self).__init__()\n",
    "        self.layer = nn.Linear(5,10)\n",
    "    def forward(self,x1,x2,x3):\n",
    "        y = [self.layer(x1),self.layer(x2),self.layer(x3)]\n",
    "        return y\n",
    "        \n",
    "input1 = Variable(torch.rand(1,5))\n",
    "input2 = Variable(torch.rand(1,5))\n",
    "input3 = Variable(torch.rand(1,5))\n",
    "net = TableModule()\n",
    "output = net(input1,input2,input3)"
   ]
  },
  {
   "cell_type": "code",
   "execution_count": 23,
   "metadata": {
    "collapsed": false
   },
   "outputs": [
    {
     "data": {
      "text/plain": [
       "[Variable containing:\n",
       "  0.1862 -0.1472  0.7187 -0.4469 -0.6080  0.1908 -0.5847 -0.3142 -0.5913 -0.7717\n",
       " [torch.FloatTensor of size 1x10], Variable containing:\n",
       "  0.2355 -0.5348  0.5494 -0.4632 -0.4510  0.3256 -0.2650 -0.3155 -0.5999 -0.6804\n",
       " [torch.FloatTensor of size 1x10], Variable containing:\n",
       " -0.2486 -0.1664  0.5667 -0.3792 -0.3014  0.4683 -0.5429 -0.6345 -0.7972 -0.7108\n",
       " [torch.FloatTensor of size 1x10]]"
      ]
     },
     "execution_count": 23,
     "metadata": {},
     "output_type": "execute_result"
    }
   ],
   "source": [
    "output"
   ]
  },
  {
   "cell_type": "code",
   "execution_count": 35,
   "metadata": {
    "collapsed": false
   },
   "outputs": [],
   "source": [
    "class TableModule(nn.Module):\n",
    "    def __init__(self):\n",
    "        super(TableModule,self).__init__()\n",
    "        \n",
    "    def forward(self,x,dim):\n",
    "        return x.chunk(x.size(dim),dim)\n",
    "        \n",
    "input = Variable(torch.rand(2,5))\n",
    "\n",
    "net = TableModule()\n",
    "output = net(input,1)"
   ]
  },
  {
   "cell_type": "code",
   "execution_count": 33,
   "metadata": {
    "collapsed": false
   },
   "outputs": [],
   "source": [
    "class TableModule(nn.Module):\n",
    "    def __init__(self):\n",
    "        super(TableModule,self).__init__()\n",
    "        \n",
    "    def forward(self,x1,x2,x3,dim):\n",
    "        return torch.cat((x1,x2,x3),dim)\n",
    "\n",
    "input1 = Variable(torch.rand(1,5))\n",
    "input2 = Variable(torch.rand(2,5))\n",
    "input3 = Variable(torch.rand(3,5))\n",
    "\n",
    "\n",
    "net = TableModule()\n",
    "output = net(input1,input2,input3,0)"
   ]
  },
  {
   "cell_type": "code",
   "execution_count": 34,
   "metadata": {
    "collapsed": false
   },
   "outputs": [
    {
     "data": {
      "text/plain": [
       "Variable containing:\n",
       " 0.5662  0.8374  0.9109  0.4902  0.8056\n",
       " 0.8097  0.6603  0.8600  0.2668  0.9509\n",
       " 0.1897  0.1169  0.1393  0.3861  0.1033\n",
       " 0.0334  0.9622  0.0311  0.5454  0.5813\n",
       " 0.4717  0.2996  0.0942  0.5979  0.3590\n",
       " 0.9273  0.9807  0.2963  0.1938  0.8815\n",
       "[torch.FloatTensor of size 6x5]"
      ]
     },
     "execution_count": 34,
     "metadata": {},
     "output_type": "execute_result"
    }
   ],
   "source": [
    "output"
   ]
  },
  {
   "cell_type": "code",
   "execution_count": 41,
   "metadata": {
    "collapsed": true
   },
   "outputs": [],
   "source": [
    "x = torch.range(1,5)\n",
    "y = torch.range(6,10)"
   ]
  },
  {
   "cell_type": "code",
   "execution_count": 42,
   "metadata": {
    "collapsed": false
   },
   "outputs": [],
   "source": [
    "z = x+y"
   ]
  },
  {
   "cell_type": "code",
   "execution_count": 46,
   "metadata": {
    "collapsed": true
   },
   "outputs": [],
   "source": [
    "a = x/y"
   ]
  },
  {
   "cell_type": "code",
   "execution_count": 47,
   "metadata": {
    "collapsed": false
   },
   "outputs": [
    {
     "data": {
      "text/plain": [
       "\n",
       " 0.1667\n",
       " 0.2857\n",
       " 0.3750\n",
       " 0.4444\n",
       " 0.5000\n",
       "[torch.FloatTensor of size 5]"
      ]
     },
     "execution_count": 47,
     "metadata": {},
     "output_type": "execute_result"
    }
   ],
   "source": [
    "a"
   ]
  },
  {
   "cell_type": "code",
   "execution_count": 48,
   "metadata": {
    "collapsed": true
   },
   "outputs": [],
   "source": [
    "a = x*y"
   ]
  },
  {
   "cell_type": "code",
   "execution_count": 49,
   "metadata": {
    "collapsed": false
   },
   "outputs": [
    {
     "data": {
      "text/plain": [
       "\n",
       "  6\n",
       " 14\n",
       " 24\n",
       " 36\n",
       " 50\n",
       "[torch.FloatTensor of size 5]"
      ]
     },
     "execution_count": 49,
     "metadata": {},
     "output_type": "execute_result"
    }
   ],
   "source": [
    "a"
   ]
  },
  {
   "cell_type": "code",
   "execution_count": 43,
   "metadata": {
    "collapsed": false
   },
   "outputs": [
    {
     "data": {
      "text/plain": [
       "\n",
       " 1\n",
       " 2\n",
       " 3\n",
       " 4\n",
       " 5\n",
       "[torch.FloatTensor of size 5]"
      ]
     },
     "execution_count": 43,
     "metadata": {},
     "output_type": "execute_result"
    }
   ],
   "source": [
    "x"
   ]
  },
  {
   "cell_type": "code",
   "execution_count": 44,
   "metadata": {
    "collapsed": false
   },
   "outputs": [
    {
     "data": {
      "text/plain": [
       "\n",
       "  6\n",
       "  7\n",
       "  8\n",
       "  9\n",
       " 10\n",
       "[torch.FloatTensor of size 5]"
      ]
     },
     "execution_count": 44,
     "metadata": {},
     "output_type": "execute_result"
    }
   ],
   "source": [
    "y"
   ]
  },
  {
   "cell_type": "code",
   "execution_count": 45,
   "metadata": {
    "collapsed": false
   },
   "outputs": [
    {
     "data": {
      "text/plain": [
       "\n",
       "  7\n",
       "  9\n",
       " 11\n",
       " 13\n",
       " 15\n",
       "[torch.FloatTensor of size 5]"
      ]
     },
     "execution_count": 45,
     "metadata": {},
     "output_type": "execute_result"
    }
   ],
   "source": [
    "z"
   ]
  },
  {
   "cell_type": "code",
   "execution_count": 55,
   "metadata": {
    "collapsed": false
   },
   "outputs": [],
   "source": [
    "class TableModule(nn.Module):\n",
    "    def __init__(self):\n",
    "        super(TableModule,self).__init__()\n",
    "        \n",
    "    def forward(self,x1,x2):\n",
    "        x_sum = x1+x2\n",
    "        x_sub = x1-x2\n",
    "        x_div = x1/x2\n",
    "        x_mul = x1*x2\n",
    "        x_min = torch.min(x1,x2)\n",
    "        x_max = torch.max(x1,x2)\n",
    "        return x_sum, x_sub, x_div, x_mul, x_min, x_max\n",
    "\n",
    "input1 = Variable(torch.range(1,5).view(1,5))\n",
    "input2 = Variable(torch.range(6,10).view(1,5))\n",
    "\n",
    "\n",
    "net = TableModule()\n",
    "output = net(input1,input2)"
   ]
  },
  {
   "cell_type": "code",
   "execution_count": 57,
   "metadata": {
    "collapsed": false
   },
   "outputs": [
    {
     "name": "stdout",
     "output_type": "stream",
     "text": [
      "(Variable containing:\n",
      "  7   9  11  13  15\n",
      "[torch.FloatTensor of size 1x5]\n",
      ", Variable containing:\n",
      "-5 -5 -5 -5 -5\n",
      "[torch.FloatTensor of size 1x5]\n",
      ", Variable containing:\n",
      " 0.1667  0.2857  0.3750  0.4444  0.5000\n",
      "[torch.FloatTensor of size 1x5]\n",
      ", Variable containing:\n",
      "  6  14  24  36  50\n",
      "[torch.FloatTensor of size 1x5]\n",
      ", Variable containing:\n",
      " 1  2  3  4  5\n",
      "[torch.FloatTensor of size 1x5]\n",
      ", Variable containing:\n",
      "  6   7   8   9  10\n",
      "[torch.FloatTensor of size 1x5]\n",
      ")\n"
     ]
    }
   ],
   "source": [
    "print(output)"
   ]
  },
  {
   "cell_type": "code",
   "execution_count": null,
   "metadata": {
    "collapsed": true
   },
   "outputs": [],
   "source": []
  },
  {
   "cell_type": "code",
   "execution_count": 56,
   "metadata": {
    "collapsed": false
   },
   "outputs": [
    {
     "data": {
      "text/plain": [
       "(Variable containing:\n",
       "   7   9  11  13  15\n",
       " [torch.FloatTensor of size 1x5], Variable containing:\n",
       " -5 -5 -5 -5 -5\n",
       " [torch.FloatTensor of size 1x5], Variable containing:\n",
       "  0.1667  0.2857  0.3750  0.4444  0.5000\n",
       " [torch.FloatTensor of size 1x5], Variable containing:\n",
       "   6  14  24  36  50\n",
       " [torch.FloatTensor of size 1x5], Variable containing:\n",
       "  1  2  3  4  5\n",
       " [torch.FloatTensor of size 1x5], Variable containing:\n",
       "   6   7   8   9  10\n",
       " [torch.FloatTensor of size 1x5])"
      ]
     },
     "execution_count": 56,
     "metadata": {},
     "output_type": "execute_result"
    }
   ],
   "source": [
    "output"
   ]
  },
  {
   "cell_type": "code",
   "execution_count": null,
   "metadata": {
    "collapsed": true
   },
   "outputs": [],
   "source": [
    "class SSD(nn.Module):\n",
    "    def __init__(self, features1,num_classes):\n",
    "        super(SSD, self).__init__()\n",
    "        param=num_classes*3\n",
    "        self.features1 = features1\n",
    "        self.features2 = nn.Sequential(\n",
    "            nn.MaxPool2d(kernel_size=2, stride=2),\n",
    "            nn.Conv2d(512,512,kernel_size=3,padding=1),\n",
    "            nn.ReLU(inplace=True),\n",
    "            nn.Conv2d(512,512,kernel_size=3,padding=1),\n",
    "            nn.ReLU(inplace=True),\n",
    "            nn.Conv2d(512,512,kernel_size=3,padding=1),\n",
    "            nn.ReLU(inplace=True),\n",
    "            nn.MaxPool2d(kernel_size=3,stride=1,padding=1),\n",
    "            nn.Conv2d(512,1024,kernel_size=3,padding=6,dilation=6),\n",
    "            nn.ReLU(inplace=True),\n",
    "            nn.Conv2d(1024,1024,kernel_size=1,padding=1),\n",
    "            nn.ReLU(inplace=True),\n",
    "        )\n",
    "        \n",
    "        self.features3 = nn.Sequential(\n",
    "            nn.Conv2d(1024,256,kernel_size=1,padding=1),\n",
    "            nn.ReLU(inplace=True),\n",
    "            nn.Conv2d(256,512,kernel_size=3,stride=2,padding=1),\n",
    "            nn.ReLU(inplace=True),\n",
    "        )\n",
    "        self.features4 = nn.Sequential(\n",
    "            nn.Conv2d(512,128,kernel_size=1,padding=1),\n",
    "            nn.ReLU(inplace=True),\n",
    "            nn.Conv2d(128,256,kernel_size=3,stride=2,padding=1),\n",
    "            nn.ReLU(inplace=True),\n",
    "        )\n",
    "        self.features5 = nn.Sequential(\n",
    "            nn.Conv2d(256,128,kernel_size=1,padding=1),\n",
    "            nn.ReLU(inplace=True),\n",
    "            nn.Conv2d(128,256,kernel_size=3,stride=2,padding=1),\n",
    "            nn.ReLU(inplace=True),\n",
    "        )\n",
    "        self.pool6 = nn.Sequential(\n",
    "            nn.AvgPool2d(kernel_size=3,stride=1),\n",
    "        )\n",
    "        \n",
    "        self.lfc7 = nn.Conv2d(1024,24,kernel_size=3,padding=1)\n",
    "        self.cfc7 = nn.Conv2d(1024,param*2,kernel_size=3,padding=1)\n",
    "        self.pfc7 = PriorBox(num_classes, 300, 300, 60, 114, [1,1,2,1/2,3,1/3], [0.1, 0.1, 0.2, 0.2], False, True)\n",
    "        self.l6_2=nn.Conv2d(512,24,kernel_size=3,padding=1)\n",
    "        self.c6_2=nn.Conv2d(512,param*2,kernel_size=3,padding=1)\n",
    "        self.p6_2=PriorBox(num_classes, 300, 300, 60, 114, [1,1,2,1/2,3,1/3], [0.1, 0.1, 0.2, 0.2], False, True)\n",
    "        self.l7_2=nn.Conv2d(256,24,kernel_size=3,padding=1)\n",
    "        self.c7_2=nn.Conv2d(256,param*2,kernel_size=3,padding=1)\n",
    "        self.p7_2=PriorBox(num_classes, 300, 300, 168, 222, [1,1,2,1/2,3,1/3], [0.1, 0.1, 0.2, 0.2], False, True)\n",
    "        self.p8_2=PriorBox(num_classes, 300, 300, 222, 276, [1,1,2,1/2,3,1/3], [0.1, 0.1, 0.2, 0.2], False, True)\n",
    "        self.pp6=PriorBox(num_classes, 300, 300, 276, 330, [1,1,2,1/2,3,1/3], [0.1, 0.1, 0.2, 0.2], False, True)\n",
    "        self.classifier = nn.Sequential(\n",
    "            nn.Dropout(),\n",
    "            nn.Linear(512 * 7 * 7, 4096),\n",
    "            nn.ReLU(True),\n",
    "            nn.Dropout(),\n",
    "            nn.Linear(4096, 4096),\n",
    "            nn.ReLU(True),\n",
    "            nn.Linear(4096, 1000),\n",
    "        )\n",
    "        \n",
    "    def forward(self, x):\n",
    "        x = self.features1(x)\n",
    "        x = self.features2(x)\n",
    "        branch2 = [self.lfc7(x),self.cfc7(x),self.pfc7(x)]\n",
    "        x = self.features3(x)\n",
    "        branch3 = [self.l6_2(x),self.c6_2(x),self.p6_2(x)]\n",
    "        x = self.features4(x)\n",
    "        branch4 = [self.l7_2(x),self.c7_2(x),self.p7_2(x)]\n",
    "        x = self.features5(x)\n",
    "        branch5 = [self.l7_2(x),self.c7_2(x),self.p8_2(x)]\n",
    "        x = self.pool6(x)\n",
    "        branch6 = [self.l7_2(x),self.c7_2(x),self.pp6(x)]\n",
    "        \n"
   ]
  },
  {
   "cell_type": "code",
   "execution_count": 97,
   "metadata": {
    "collapsed": false
   },
   "outputs": [],
   "source": [
    "\n",
    "class Branch(nn.Module):\n",
    "    def __init__(self,b2):\n",
    "        super(Branch, self).__init__()\n",
    "        self.b = nn.MaxPool2d(kernel_size=2, stride=2)\n",
    "        self.b2 = b2\n",
    "        \n",
    "    def forward(self,x):\n",
    "        x = self.b(x) \n",
    "        y = [self.b2(x).view(-1), self.b2(x).view(-1)]\n",
    "        z = torch.cat((y[0],y[1]))\n",
    "        return z\n",
    "        \n",
    "        \n",
    "class ComplexNet(nn.Module):\n",
    "    def __init__(self, m1, m2):\n",
    "        super(ComplexNet, self).__init__()\n",
    "        self.net1 = m1\n",
    "        self.net2 = m2\n",
    "        self.net3 = nn.Conv2d(128,256,kernel_size=3,padding=1)\n",
    "        self.branch1 = Branch(nn.Conv2d(64,64,kernel_size=3,padding=1))\n",
    "        self.branch2 = Branch(nn.Conv2d(128,256,kernel_size=3, padding=1))\n",
    "         \n",
    "    def forward(self, x):\n",
    "        x = self.net1(x)\n",
    "        x1 = self.branch1(x)\n",
    "        y = self.net2(x)\n",
    "        x2 = self.branch2(y)\n",
    "        x3 = self.net3(y).view(-1)\n",
    "        output = torch.cat((x1,x2,x3),0)\n",
    "        return output\n",
    "    \n",
    "    \n",
    "def make_layers(params, in_size):    \n",
    "    layers = []\n",
    "    channels = in_size\n",
    "    for p in params:\n",
    "            conv2d = nn.Conv2d(channels, p, kernel_size=3, padding=1)\n",
    "            layers += [conv2d, nn.ReLU(inplace=True)]\n",
    "            channels = p\n",
    "    return nn.Sequential(*layers) \n",
    "\n",
    "x_input = Variable(torch.Tensor(1,3,10,10))    \n",
    "net = ComplexNet(make_layers([64,64],3),make_layers([128,128],64))\n",
    "\n",
    "    "
   ]
  },
  {
   "cell_type": "code",
   "execution_count": 98,
   "metadata": {
    "collapsed": false
   },
   "outputs": [
    {
     "data": {
      "text/plain": [
       "ComplexNet (\n",
       "  (net1): Sequential (\n",
       "    (0): Conv2d(3, 64, kernel_size=(3, 3), stride=(1, 1), padding=(1, 1))\n",
       "    (1): ReLU (inplace)\n",
       "    (2): Conv2d(64, 64, kernel_size=(3, 3), stride=(1, 1), padding=(1, 1))\n",
       "    (3): ReLU (inplace)\n",
       "  )\n",
       "  (net2): Sequential (\n",
       "    (0): Conv2d(64, 128, kernel_size=(3, 3), stride=(1, 1), padding=(1, 1))\n",
       "    (1): ReLU (inplace)\n",
       "    (2): Conv2d(128, 128, kernel_size=(3, 3), stride=(1, 1), padding=(1, 1))\n",
       "    (3): ReLU (inplace)\n",
       "  )\n",
       "  (net3): Conv2d(128, 256, kernel_size=(3, 3), stride=(1, 1), padding=(1, 1))\n",
       "  (branch1): Branch (\n",
       "    (b): MaxPool2d (size=(2, 2), stride=(2, 2), dilation=(1, 1))\n",
       "    (b2): Conv2d(64, 64, kernel_size=(3, 3), stride=(1, 1), padding=(1, 1))\n",
       "  )\n",
       "  (branch2): Branch (\n",
       "    (b): MaxPool2d (size=(2, 2), stride=(2, 2), dilation=(1, 1))\n",
       "    (b2): Conv2d(128, 256, kernel_size=(3, 3), stride=(1, 1), padding=(1, 1))\n",
       "  )\n",
       ")"
      ]
     },
     "execution_count": 98,
     "metadata": {},
     "output_type": "execute_result"
    }
   ],
   "source": [
    "net"
   ]
  },
  {
   "cell_type": "code",
   "execution_count": 99,
   "metadata": {
    "collapsed": false
   },
   "outputs": [
    {
     "name": "stdout",
     "output_type": "stream",
     "text": [
      "torch.Size([3200])\n",
      "torch.Size([12800])\n",
      "torch.Size([25600])\n"
     ]
    }
   ],
   "source": [
    "output = net(x_input)"
   ]
  },
  {
   "cell_type": "code",
   "execution_count": 103,
   "metadata": {
    "collapsed": false
   },
   "outputs": [
    {
     "data": {
      "text/plain": [
       "Variable containing:\n",
       " 6.4853e+32\n",
       " 1.5531e+37\n",
       "-7.3481e+37\n",
       "     ⋮     \n",
       "-3.8449e+32\n",
       "-2.5998e+32\n",
       "-1.4599e+31\n",
       "[torch.FloatTensor of size 41600]"
      ]
     },
     "execution_count": 103,
     "metadata": {},
     "output_type": "execute_result"
    }
   ],
   "source": [
    "output"
   ]
  },
  {
   "cell_type": "code",
   "execution_count": 104,
   "metadata": {
    "collapsed": true
   },
   "outputs": [],
   "source": [
    "x = torch.rand(1,5)"
   ]
  },
  {
   "cell_type": "code",
   "execution_count": 105,
   "metadata": {
    "collapsed": false
   },
   "outputs": [
    {
     "data": {
      "text/plain": [
       "\n",
       " 0.4940  0.1852  0.5438  0.9889  0.7388\n",
       "[torch.FloatTensor of size 1x5]"
      ]
     },
     "execution_count": 105,
     "metadata": {},
     "output_type": "execute_result"
    }
   ],
   "source": [
    "x"
   ]
  },
  {
   "cell_type": "code",
   "execution_count": 106,
   "metadata": {
    "collapsed": true
   },
   "outputs": [],
   "source": [
    "x = torch.range(1,5)"
   ]
  },
  {
   "cell_type": "code",
   "execution_count": 107,
   "metadata": {
    "collapsed": false
   },
   "outputs": [
    {
     "data": {
      "text/plain": [
       "\n",
       " 1\n",
       " 2\n",
       " 3\n",
       " 4\n",
       " 5\n",
       "[torch.FloatTensor of size 5]"
      ]
     },
     "execution_count": 107,
     "metadata": {},
     "output_type": "execute_result"
    }
   ],
   "source": [
    "x"
   ]
  },
  {
   "cell_type": "code",
   "execution_count": 116,
   "metadata": {
    "collapsed": false
   },
   "outputs": [],
   "source": [
    "class TableModule(nn.Module):\n",
    "    def __init__(self):\n",
    "        super(TableModule,self).__init__()\n",
    "        \n",
    "    def forward(self,x,dim):\n",
    "        y = torch.cat(x,dim)\n",
    "        return y\n",
    "\n",
    "input1 = Variable(torch.rand(1,5))\n",
    "input2 = Variable(torch.rand(2,5))\n",
    "input3 = Variable(torch.rand(3,5))\n",
    "net = TableModule()\n",
    "output = net([input1,input2,input3],0)"
   ]
  },
  {
   "cell_type": "code",
   "execution_count": 125,
   "metadata": {
    "collapsed": true
   },
   "outputs": [],
   "source": [
    "class TableModule(nn.Module):\n",
    "    def __init__(self):\n",
    "        super(TableModule,self).__init__()\n",
    "        self.layer1 = nn.Linear(10,5)\n",
    "        self.layer2 = nn.Linear(5,10)\n",
    "    def forward(self,x):\n",
    "        y = [self.layer1(x[0]),self.layer2(x[1])]\n",
    "        return y\n",
    "        \n",
    "input1 = Variable(torch.rand(1,10))\n",
    "input2 = Variable(torch.rand(1,5))\n",
    "net = TableModule()\n",
    "output = net([input1,input2])"
   ]
  },
  {
   "cell_type": "code",
   "execution_count": 126,
   "metadata": {
    "collapsed": false
   },
   "outputs": [
    {
     "data": {
      "text/plain": [
       "[Variable containing:\n",
       " -0.5907  0.1977  0.0262  0.8729  0.3337\n",
       " [torch.FloatTensor of size 1x5], Variable containing:\n",
       "  0.4988  0.8463  0.0875 -0.2289  0.1286 -0.1580 -0.4425 -0.3371  0.2606 -0.5917\n",
       " [torch.FloatTensor of size 1x10]]"
      ]
     },
     "execution_count": 126,
     "metadata": {},
     "output_type": "execute_result"
    }
   ],
   "source": [
    "output"
   ]
  },
  {
   "cell_type": "code",
   "execution_count": 121,
   "metadata": {
    "collapsed": false
   },
   "outputs": [],
   "source": [
    "class TableModule(nn.Module):\n",
    "    def __init__(self):\n",
    "        super(TableModule,self).__init__()\n",
    "        self.layer = nn.Linear(5,10)\n",
    "    def forward(self,x):\n",
    "        y = [self.layer(member) for member in x]\n",
    "        return y\n",
    "        \n",
    "input1 = Variable(torch.rand(1,5))\n",
    "input2 = Variable(torch.rand(1,5))\n",
    "input3 = Variable(torch.rand(1,5))\n",
    "net = TableModule()\n",
    "output = net([input1,input2,input3])"
   ]
  },
  {
   "cell_type": "code",
   "execution_count": 122,
   "metadata": {
    "collapsed": false
   },
   "outputs": [
    {
     "data": {
      "text/plain": [
       "[Variable containing:\n",
       "  0.3992  0.9481 -0.5487  0.6227 -0.2397 -0.5509  0.0895  0.0967  0.6106  0.2739\n",
       " [torch.FloatTensor of size 1x10], Variable containing:\n",
       "  0.3240  0.5493 -0.5520  0.1760 -0.3866  0.0438  0.2492  0.1455  0.6535 -0.1456\n",
       " [torch.FloatTensor of size 1x10], Variable containing:\n",
       "  0.0547  0.7167 -0.5508  0.1460 -0.6101 -0.1995  0.1847  0.4303  0.7600  0.0571\n",
       " [torch.FloatTensor of size 1x10]]"
      ]
     },
     "execution_count": 122,
     "metadata": {},
     "output_type": "execute_result"
    }
   ],
   "source": [
    "output"
   ]
  },
  {
   "cell_type": "code",
   "execution_count": 127,
   "metadata": {
    "collapsed": true
   },
   "outputs": [],
   "source": [
    "class TableModule(nn.Module):\n",
    "    def __init__(self):\n",
    "        super(TableModule,self).__init__()\n",
    "    def forward(self,x,dim):\n",
    "        y = x.chunk(x.size(dim),dim)\n",
    "        return y\n",
    "        \n",
    "input = Variable(torch.rand(2,5))\n",
    "net = TableModule()\n",
    "output = net(input,1)"
   ]
  },
  {
   "cell_type": "code",
   "execution_count": 128,
   "metadata": {
    "collapsed": false
   },
   "outputs": [
    {
     "data": {
      "text/plain": [
       "(Variable containing:\n",
       "  0.0763\n",
       "  0.4847\n",
       " [torch.FloatTensor of size 2x1], Variable containing:\n",
       "  0.2236\n",
       "  0.3709\n",
       " [torch.FloatTensor of size 2x1], Variable containing:\n",
       "  0.9843\n",
       "  0.3463\n",
       " [torch.FloatTensor of size 2x1], Variable containing:\n",
       "  0.5419\n",
       "  0.4002\n",
       " [torch.FloatTensor of size 2x1], Variable containing:\n",
       "  0.6444\n",
       "  0.8123\n",
       " [torch.FloatTensor of size 2x1])"
      ]
     },
     "execution_count": 128,
     "metadata": {},
     "output_type": "execute_result"
    }
   ],
   "source": [
    "output"
   ]
  },
  {
   "cell_type": "code",
   "execution_count": null,
   "metadata": {
    "collapsed": true
   },
   "outputs": [],
   "source": []
  }
 ],
 "metadata": {
  "kernelspec": {
   "display_name": "Python 3",
   "language": "python",
   "name": "python3"
  },
  "language_info": {
   "codemirror_mode": {
    "name": "ipython",
    "version": 3
   },
   "file_extension": ".py",
   "mimetype": "text/x-python",
   "name": "python",
   "nbconvert_exporter": "python",
   "pygments_lexer": "ipython3",
   "version": "3.5.2"
  }
 },
 "nbformat": 4,
 "nbformat_minor": 2
}
